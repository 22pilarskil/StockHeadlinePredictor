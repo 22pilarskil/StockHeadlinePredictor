{
 "cells": [
  {
   "cell_type": "code",
   "execution_count": 1,
   "metadata": {},
   "outputs": [],
   "source": [
    "import pandas as pd\n",
    "from datasets import Dataset "
   ]
  },
  {
   "cell_type": "code",
   "execution_count": null,
   "metadata": {},
   "outputs": [],
   "source": [
    "# load data into datafram \n",
    "\n",
    "title_label = pd.read_csv('title_labels.txt')\n",
    "title_label = pd.DataFrame(title_label, columns=['Title', 'Label'])\n",
    "title_label_dataset = Dataset.from_pandas(title_label)\n",
    "\n",
    "# Convert label column to integer\n",
    "title_label_dataset = title_label_dataset.map(lambda x: {'Label': int(x['Label'])})\n"
   ]
  },
  {
   "cell_type": "code",
   "execution_count": null,
   "metadata": {},
   "outputs": [],
   "source": [
    "from transformers import BertTokenizer, BertForSequenceClassification, Trainer, TrainingArguments\n",
    "\n",
    "tokenizer = BertTokenizer.from_pretrained(\"yassinemaaroufi/finbert\")\n",
    "\n",
    "model = BertForSequenceClassification.from_pretrained(\"yassinemaaroufi/finbert\", num_labels = 3)"
   ]
  },
  {
   "cell_type": "code",
   "execution_count": null,
   "metadata": {},
   "outputs": [],
   "source": [
    "def tokenize_function(examples):\n",
    "    return tokenizer(examples['Title'], padding = 'max_length', truncation=True)\n",
    "\n",
    "tokenized_dataset = title_label_dataset.map(tokenize_function, batched=True)"
   ]
  },
  {
   "cell_type": "code",
   "execution_count": null,
   "metadata": {},
   "outputs": [],
   "source": [
    "training_args = TrainingArguments(output_dir='./results', evaluation_strategy='epoch', learning_rate=2e-5, \n",
    "                                  per_device_train_batch_size=8, per_device_eval_batch_size=8, \n",
    "                                  num_train_epochs=3, weight_decay=0.01)\n"
   ]
  },
  {
   "cell_type": "code",
   "execution_count": null,
   "metadata": {},
   "outputs": [],
   "source": [
    "trainer = Trainer(model=model,\n",
    "                  args=training_args\n",
    "                  train_dataset=tokenized_dataset,\n",
    "                  eval_dataset=tokenized_dataset)\n",
    "\n",
    "trainer.train()"
   ]
  },
  {
   "cell_type": "code",
   "execution_count": null,
   "metadata": {},
   "outputs": [],
   "source": [
    "model.save_pretrained('./fin_bert_3_labels')\n",
    "tokenizer.save_pretrained('./fin_bert_3_labels')\n"
   ]
  },
  {
   "cell_type": "code",
   "execution_count": null,
   "metadata": {},
   "outputs": [],
   "source": [
    "predictions = trainer.predict(tokenized_dataset)\n",
    "print(predictions)"
   ]
  }
 ],
 "metadata": {
  "kernelspec": {
   "display_name": "Python 3",
   "language": "python",
   "name": "python3"
  },
  "language_info": {
   "codemirror_mode": {
    "name": "ipython",
    "version": 3
   },
   "file_extension": ".py",
   "mimetype": "text/x-python",
   "name": "python",
   "nbconvert_exporter": "python",
   "pygments_lexer": "ipython3",
   "version": "3.11.8"
  }
 },
 "nbformat": 4,
 "nbformat_minor": 2
}
